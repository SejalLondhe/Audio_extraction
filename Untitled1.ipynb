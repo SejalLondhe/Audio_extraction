{
  "nbformat": 4,
  "nbformat_minor": 0,
  "metadata": {
    "colab": {
      "provenance": []
    },
    "kernelspec": {
      "name": "python3",
      "display_name": "Python 3"
    },
    "language_info": {
      "name": "python"
    }
  },
  "cells": [
    {
      "cell_type": "code",
      "source": [
        "pip install moviepy"
      ],
      "metadata": {
        "id": "563dzHyEIWwY"
      },
      "execution_count": null,
      "outputs": []
    },
    {
      "cell_type": "code",
      "execution_count": null,
      "metadata": {
        "id": "yR2t4Z15IUjL"
      },
      "outputs": [],
      "source": [
        "from moviepy.editor import VideoFileClip\n",
        "import zipfile\n",
        "import os\n",
        "\n",
        "def extract_audio(video_path, audio_path):\n",
        "    clip = VideoFileClip(video_path)\n",
        "    clip.audio.write_audiofile(audio_path)\n",
        "\n",
        "def extract_audios_from_zip(zip_path, output_dir, output_zip):\n",
        "    with zipfile.ZipFile(zip_path, 'r') as z:\n",
        "        with zipfile.ZipFile(output_zip, 'w') as output_zip_file:\n",
        "            z.extractall(output_dir)\n",
        "            for file in z.namelist():\n",
        "                if file.endswith('.mp4'):\n",
        "                    video_path = os.path.join(output_dir, file)\n",
        "                    audio_path = os.path.splitext(video_path)[0] + '.mp3'\n",
        "                    extract_audio(video_path, audio_path)\n",
        "                    output_zip_file.write(audio_path, os.path.basename(audio_path))\n",
        "\n",
        "if __name__ == '__main__':\n",
        "    zip_path = '/content/RealVideo-FakeAudio-20240302T072053Z-001.zip'\n",
        "    output_dir = 'extracted_audio1'\n",
        "    output_zip = 'extracted_audio1.zip'\n",
        "    extract_audios_from_zip(zip_path, output_dir, output_zip)\n"
      ]
    }
  ]
}